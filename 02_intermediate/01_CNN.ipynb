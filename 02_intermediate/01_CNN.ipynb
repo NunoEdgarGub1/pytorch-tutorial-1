{
 "cells": [
  {
   "cell_type": "code",
   "execution_count": 1,
   "metadata": {},
   "outputs": [],
   "source": [
    "import torch\n",
    "import torch.nn as nn\n",
    "import torchvision\n",
    "import torchvision.transforms as transforms\n",
    "\n",
    "# Device configuration\n",
    "device = torch.device('cuda' if torch.cuda.is_available() else 'cpu')"
   ]
  },
  {
   "cell_type": "code",
   "execution_count": 2,
   "metadata": {},
   "outputs": [],
   "source": [
    "# Hyper-parameters\n",
    "num_epochs = 5\n",
    "num_classes = 10\n",
    "batch_size = 100\n",
    "learning_rate = 0.001\n",
    "\n",
    "# MNIST dataset\n",
    "train_dataset = torchvision.datasets.MNIST(root='../data', \n",
    "                                           transform=transforms.ToTensor(), \n",
    "                                           download=True, \n",
    "                                           train=True)\n",
    "\n",
    "test_dataset = torchvision.datasets.MNIST(root='../data', \n",
    "                                          transform=transforms.ToTensor(), \n",
    "                                          train=False)\n",
    "\n",
    "# Data loader\n",
    "train_loader = torch.utils.data.DataLoader(dataset=train_dataset, \n",
    "                                           batch_size=batch_size, \n",
    "                                           shuffle=True)\n",
    "\n",
    "test_loader = torch.utils.data.DataLoader(dataset=test_dataset, \n",
    "                                          batch_size=batch_size, \n",
    "                                          shuffle=False)\n",
    "\n",
    "# Convolutional neural network (two convolutional layers)\n",
    "class ConvNet(nn.Module):\n",
    "    def __init__(self, num_classes=10):\n",
    "        super(ConvNet, self).__init__()\n",
    "        # Conv1d: vector; Conv2d: matrix; Conv3d: tensor. The kernels are different in rank.\n",
    "        # nn.Conv2d(in_channels, out_channels, kernel_size, stride=1, padding=0, dilation=1, groups=1, bias=True)\n",
    "        # Since the MNIST dataset is in greyscale, the input channel is 1\n",
    "        # BatchNorm2d: apply batch normalization\n",
    "        # Batch Normalization: https://zhuanlan.zhihu.com/p/24810318\n",
    "        # Compute output size of a layer: (input_size + 2*padding - kernel_size)/stride + 1\n",
    "        self.layer1 = nn.Sequential(\n",
    "            nn.Conv2d(1, 16, kernel_size=5, stride=1, padding=2),\n",
    "            nn.BatchNorm2d(16), \n",
    "            nn.ReLU(),\n",
    "            nn.MaxPool2d(kernel_size=2, stride=2)\n",
    "        )        \n",
    "        self.layer2 = nn.Sequential(\n",
    "            nn.Conv2d(16, 32, kernel_size=5, stride=1, padding=2),\n",
    "            nn.BatchNorm2d(32),\n",
    "            nn.ReLU(),\n",
    "            nn.MaxPool2d(kernel_size=2, stride=2)\n",
    "        )\n",
    "        self.fc = nn.Linear(7*7*32, num_classes)  # The output size of the layers 2 is 7*7*32\n",
    "        \n",
    "    def forward(self, x):\n",
    "        out = self.layer1(x)\n",
    "        out = self.layer2(out)  # size: [N, out_channel, out_h, out_h]\n",
    "#         print(out.size())\n",
    "        out = out.reshape(out.size(0), -1)  # size: [N, out_channel * out_h * out_w]\n",
    "        out = self.fc(out)\n",
    "        return out\n",
    "    \n",
    "model = ConvNet(num_classes).to(device)\n",
    "\n",
    "# Loss and optimize\n",
    "criterion = nn.CrossEntropyLoss()\n",
    "optimizer = torch.optim.Adam(model.parameters(), lr=learning_rate)"
   ]
  },
  {
   "cell_type": "code",
   "execution_count": 3,
   "metadata": {},
   "outputs": [
    {
     "name": "stdout",
     "output_type": "stream",
     "text": [
      "Epoch [1/5], Step [100/600], Loss: 0.1411\n",
      "Epoch [1/5], Step [200/600], Loss: 0.1978\n",
      "Epoch [1/5], Step [300/600], Loss: 0.0842\n",
      "Epoch [1/5], Step [400/600], Loss: 0.0115\n",
      "Epoch [1/5], Step [500/600], Loss: 0.0288\n",
      "Epoch [1/5], Step [600/600], Loss: 0.0369\n",
      "Epoch [2/5], Step [100/600], Loss: 0.0407\n",
      "Epoch [2/5], Step [200/600], Loss: 0.0484\n",
      "Epoch [2/5], Step [300/600], Loss: 0.0677\n",
      "Epoch [2/5], Step [400/600], Loss: 0.0773\n",
      "Epoch [2/5], Step [500/600], Loss: 0.0620\n",
      "Epoch [2/5], Step [600/600], Loss: 0.0118\n",
      "Epoch [3/5], Step [100/600], Loss: 0.0153\n",
      "Epoch [3/5], Step [200/600], Loss: 0.0638\n",
      "Epoch [3/5], Step [300/600], Loss: 0.0453\n",
      "Epoch [3/5], Step [400/600], Loss: 0.0308\n",
      "Epoch [3/5], Step [500/600], Loss: 0.0289\n",
      "Epoch [3/5], Step [600/600], Loss: 0.0149\n",
      "Epoch [4/5], Step [100/600], Loss: 0.0144\n",
      "Epoch [4/5], Step [200/600], Loss: 0.0046\n",
      "Epoch [4/5], Step [300/600], Loss: 0.2360\n",
      "Epoch [4/5], Step [400/600], Loss: 0.0198\n",
      "Epoch [4/5], Step [500/600], Loss: 0.0306\n",
      "Epoch [4/5], Step [600/600], Loss: 0.0062\n",
      "Epoch [5/5], Step [100/600], Loss: 0.0178\n",
      "Epoch [5/5], Step [200/600], Loss: 0.0583\n",
      "Epoch [5/5], Step [300/600], Loss: 0.0186\n",
      "Epoch [5/5], Step [400/600], Loss: 0.0216\n",
      "Epoch [5/5], Step [500/600], Loss: 0.0709\n",
      "Epoch [5/5], Step [600/600], Loss: 0.0143\n"
     ]
    }
   ],
   "source": [
    "# Train the model\n",
    "total_step = len(train_loader)\n",
    "for epoch in range(num_epochs):\n",
    "    for i, (images, labels) in enumerate(train_loader):\n",
    "        images = images.to(device)\n",
    "        labels = labels.to(device)\n",
    "        \n",
    "        # Forward pass\n",
    "        outputs = model(images)\n",
    "        loss = criterion(outputs, labels)\n",
    "        \n",
    "        # Backward and optimize\n",
    "        optimizer.zero_grad()\n",
    "        loss.backward()\n",
    "        optimizer.step()\n",
    "        \n",
    "        if (i+1) % 100 == 0:\n",
    "            print('Epoch [{}/{}], Step [{}/{}], Loss: {:.4f}'\n",
    "                  .format(epoch+1, num_epochs, i+1, total_step, loss.item()))"
   ]
  },
  {
   "cell_type": "code",
   "execution_count": 4,
   "metadata": {},
   "outputs": [
    {
     "name": "stdout",
     "output_type": "stream",
     "text": [
      "Test Accuracy of the model on the 10000 test images: 99.06%\n"
     ]
    }
   ],
   "source": [
    "# Test the model\n",
    "with torch.no_grad():\n",
    "    correct = 0\n",
    "    total = 0\n",
    "    for images, labels in test_loader:\n",
    "        images = images.to(device)\n",
    "        labels = labels.to(device)\n",
    "        outputs = model(images)\n",
    "        _, predicted = torch.max(outputs.data, 1)\n",
    "        total += len(labels)\n",
    "        correct += (predicted == labels).sum().item()\n",
    "        \n",
    "    print('Test Accuracy of the model on the 10000 test images: {}%'.format(correct / total * 100))\n",
    "    \n",
    "# Save the model checkpoint\n",
    "torch.save(model.state_dict(), 'model.ckpt')"
   ]
  },
  {
   "cell_type": "code",
   "execution_count": null,
   "metadata": {},
   "outputs": [],
   "source": []
  }
 ],
 "metadata": {
  "kernelspec": {
   "display_name": "Python 3",
   "language": "python",
   "name": "python3"
  },
  "language_info": {
   "codemirror_mode": {
    "name": "ipython",
    "version": 3
   },
   "file_extension": ".py",
   "mimetype": "text/x-python",
   "name": "python",
   "nbconvert_exporter": "python",
   "pygments_lexer": "ipython3",
   "version": "3.7.3"
  }
 },
 "nbformat": 4,
 "nbformat_minor": 2
}
