{
 "cells": [
  {
   "cell_type": "code",
   "execution_count": 1,
   "metadata": {},
   "outputs": [],
   "source": [
    "import torch\n",
    "import torch.nn as nn\n",
    "import torchvision\n",
    "import torchvision.transforms as transforms"
   ]
  },
  {
   "cell_type": "code",
   "execution_count": 2,
   "metadata": {},
   "outputs": [],
   "source": [
    "# Hyper-parameters\n",
    "input_size = 784\n",
    "num_class = 10\n",
    "num_epochs = 5\n",
    "batch_size = 100\n",
    "learning_rate = 0.001\n",
    "\n",
    "# MNIST dataset (image and labels)\n",
    "train_dataset = torchvision.datasets.MNIST(root='./data', \n",
    "                                           train=True, \n",
    "                                           transform=transforms.ToTensor(), \n",
    "                                           download=True)\n",
    "test_dataset = torchvision.datasets.MNIST(root='./data', \n",
    "                                          train=False, \n",
    "                                          transform=transforms.ToTensor())\n",
    "\n",
    "# Data loader(input pipeline)\n",
    "train_loader = torch.utils.data.DataLoader(dataset=train_dataset, \n",
    "                                           batch_size=batch_size, \n",
    "                                           shuffle=True)\n",
    "test_loader = torch.utils.data.DataLoader(dataset=test_dataset, \n",
    "                                          batch_size=batch_size, \n",
    "                                          shuffle=False)"
   ]
  },
  {
   "cell_type": "code",
   "execution_count": 3,
   "metadata": {},
   "outputs": [
    {
     "name": "stdout",
     "output_type": "stream",
     "text": [
      "Epoch [1/5], Step [100/600], loss: 2.2229\n",
      "Epoch [1/5], Step [200/600], loss: 2.1488\n",
      "Epoch [1/5], Step [300/600], loss: 2.0353\n",
      "Epoch [1/5], Step [400/600], loss: 1.9695\n",
      "Epoch [1/5], Step [500/600], loss: 1.8497\n",
      "Epoch [1/5], Step [600/600], loss: 1.8270\n",
      "Epoch [2/5], Step [100/600], loss: 1.7914\n",
      "Epoch [2/5], Step [200/600], loss: 1.6448\n",
      "Epoch [2/5], Step [300/600], loss: 1.6279\n",
      "Epoch [2/5], Step [400/600], loss: 1.5963\n",
      "Epoch [2/5], Step [500/600], loss: 1.5442\n",
      "Epoch [2/5], Step [600/600], loss: 1.4586\n",
      "Epoch [3/5], Step [100/600], loss: 1.4876\n",
      "Epoch [3/5], Step [200/600], loss: 1.3556\n",
      "Epoch [3/5], Step [300/600], loss: 1.2352\n",
      "Epoch [3/5], Step [400/600], loss: 1.3468\n",
      "Epoch [3/5], Step [500/600], loss: 1.3316\n",
      "Epoch [3/5], Step [600/600], loss: 1.2007\n",
      "Epoch [4/5], Step [100/600], loss: 1.1767\n",
      "Epoch [4/5], Step [200/600], loss: 1.1768\n",
      "Epoch [4/5], Step [300/600], loss: 1.1967\n",
      "Epoch [4/5], Step [400/600], loss: 0.9749\n",
      "Epoch [4/5], Step [500/600], loss: 1.2077\n",
      "Epoch [4/5], Step [600/600], loss: 0.9936\n",
      "Epoch [5/5], Step [100/600], loss: 1.1172\n",
      "Epoch [5/5], Step [200/600], loss: 1.0329\n",
      "Epoch [5/5], Step [300/600], loss: 1.0676\n",
      "Epoch [5/5], Step [400/600], loss: 1.0453\n",
      "Epoch [5/5], Step [500/600], loss: 0.9657\n",
      "Epoch [5/5], Step [600/600], loss: 1.0767\n"
     ]
    }
   ],
   "source": [
    "# Logistic regression\n",
    "model = nn.Linear(input_size, num_class)\n",
    "\n",
    "# Loss and optimizer\n",
    "# nn.CrossEntropyLoss() compute softmax internally\n",
    "criterion = nn.CrossEntropyLoss()\n",
    "optimizer = torch.optim.SGD(model.parameters(), lr=learning_rate)\n",
    "\n",
    "# Train the model\n",
    "total_step = len(train_loader)\n",
    "for epoch in range(num_epochs):\n",
    "    for i, (images, labels) in enumerate(train_loader):\n",
    "        # reshape the image to (batch_size, input_size)\n",
    "        images = images.reshape(-1, 28*28)\n",
    "        \n",
    "        # Forward pass\n",
    "        outputs = model(images)\n",
    "        loss = criterion(outputs, labels)\n",
    "        \n",
    "        # Backward and optimize\n",
    "        optimizer.zero_grad()\n",
    "        loss.backward()\n",
    "        optimizer.step()\n",
    "        \n",
    "        if (i + 1) % 100 ==0:\n",
    "            print('Epoch [{}/{}], Step [{}/{}], loss: {:.4f}'\n",
    "                  .format(epoch+1, num_epochs, i+1, total_step, loss.item()))"
   ]
  },
  {
   "cell_type": "code",
   "execution_count": 4,
   "metadata": {},
   "outputs": [
    {
     "name": "stdout",
     "output_type": "stream",
     "text": [
      "Accuracy of the model on the 10000 test images: 82%\n"
     ]
    }
   ],
   "source": [
    "# Test the model\n",
    "# In the test phase, we don't need to compute the gradient (for memory efficient)\n",
    "with torch.no_grad():\n",
    "    correct = 0\n",
    "    total = 0\n",
    "    for images, labels in test_loader:\n",
    "        images = images.reshape(-1, 28*28)\n",
    "        outputs = model(images)\n",
    "        _, predicted = torch.max(outputs.data, 1)\n",
    "        total += labels.size(0)\n",
    "        correct += (predicted == labels).sum()\n",
    "    \n",
    "    print('Accuracy of the model on the 10000 test images: {}%'.format(100 * correct / total))\n",
    "    \n",
    "# Save the model checkpoint\n",
    "torch.save(model.state_dict(), 'model.ckpt')"
   ]
  },
  {
   "cell_type": "code",
   "execution_count": null,
   "metadata": {},
   "outputs": [],
   "source": []
  }
 ],
 "metadata": {
  "kernelspec": {
   "display_name": "Python 3",
   "language": "python",
   "name": "python3"
  },
  "language_info": {
   "codemirror_mode": {
    "name": "ipython",
    "version": 3
   },
   "file_extension": ".py",
   "mimetype": "text/x-python",
   "name": "python",
   "nbconvert_exporter": "python",
   "pygments_lexer": "ipython3",
   "version": "3.7.3"
  }
 },
 "nbformat": 4,
 "nbformat_minor": 2
}
