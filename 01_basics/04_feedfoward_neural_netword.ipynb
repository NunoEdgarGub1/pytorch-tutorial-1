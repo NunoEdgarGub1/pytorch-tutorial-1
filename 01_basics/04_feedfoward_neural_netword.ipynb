{
 "cells": [
  {
   "cell_type": "code",
   "execution_count": 1,
   "metadata": {},
   "outputs": [],
   "source": [
    "import torch\n",
    "import torch.nn as nn\n",
    "import torchvision\n",
    "import torchvision.transforms as transforms\n",
    "\n",
    "# Device configuration\n",
    "device = torch.device('cuda' if torch.cuda.is_available() else 'cpu')"
   ]
  },
  {
   "cell_type": "code",
   "execution_count": 2,
   "metadata": {},
   "outputs": [],
   "source": [
    "# Hyper-parameter\n",
    "input_size = 784\n",
    "hidden_size = 500\n",
    "num_classes = 10\n",
    "num_epochs = 5\n",
    "batch_size = 100\n",
    "learning_rate = 0.001\n",
    "\n",
    "# MNIST dataset\n",
    "train_dataset = torchvision.datasets.MNIST(root='./data', \n",
    "                                           train=True, \n",
    "                                           transform=transforms.ToTensor(), \n",
    "                                           download=True)\n",
    "test_dataset = torchvision.datasets.MNIST(root='./data',\n",
    "                                          train=False, \n",
    "                                          transform=transforms.ToTensor())\n",
    "\n",
    "# Data loader\n",
    "train_loader = torch.utils.data.DataLoader(dataset=train_dataset, \n",
    "                                           batch_size=batch_size, \n",
    "                                           shuffle=True)\n",
    "test_loader = torch.utils.data.DataLoader(dataset=test_dataset,\n",
    "                                          batch_size=batch_size,\n",
    "                                          shuffle=False)"
   ]
  },
  {
   "cell_type": "code",
   "execution_count": 3,
   "metadata": {},
   "outputs": [],
   "source": [
    "# Fully connected neural netword with one hidden layer\n",
    "class NeuralNet(nn.Module):\n",
    "    def __init__(self, input_size, hidden_size, num_classes):\n",
    "        # call __init__ method of parent class to initialize the class\n",
    "        super(NeuralNet, self).__init__()  # super().__init__() in python 3\n",
    "        self.fc1 = nn.Linear(input_size, hidden_size)\n",
    "        self.relu = nn.ReLU()\n",
    "        self.fc2 = nn.Linear(hidden_size, num_classes)\n",
    "        \n",
    "    def forward(self, x):\n",
    "        out = self.fc1(x)\n",
    "        out = self.relu(out)\n",
    "        out = self.fc2(out)\n",
    "        return out\n",
    "    \n",
    "model = NeuralNet(input_size, hidden_size, num_classes).to(device)\n",
    "\n",
    "# Loss and optimizer\n",
    "criterion = nn.CrossEntropyLoss()\n",
    "optimizer = torch.optim.Adam(model.parameters(), lr=learning_rate)"
   ]
  },
  {
   "cell_type": "code",
   "execution_count": 4,
   "metadata": {},
   "outputs": [
    {
     "name": "stdout",
     "output_type": "stream",
     "text": [
      "Epoch [1/5], Step [100/600], Loss: 0.5346\n",
      "Epoch [1/5], Step [200/600], Loss: 0.2261\n",
      "Epoch [1/5], Step [300/600], Loss: 0.2837\n",
      "Epoch [1/5], Step [400/600], Loss: 0.2072\n",
      "Epoch [1/5], Step [500/600], Loss: 0.1901\n",
      "Epoch [1/5], Step [600/600], Loss: 0.1083\n",
      "Epoch [2/5], Step [100/600], Loss: 0.2890\n",
      "Epoch [2/5], Step [200/600], Loss: 0.0717\n",
      "Epoch [2/5], Step [300/600], Loss: 0.0388\n",
      "Epoch [2/5], Step [400/600], Loss: 0.0782\n",
      "Epoch [2/5], Step [500/600], Loss: 0.0873\n",
      "Epoch [2/5], Step [600/600], Loss: 0.0764\n",
      "Epoch [3/5], Step [100/600], Loss: 0.0827\n",
      "Epoch [3/5], Step [200/600], Loss: 0.0601\n",
      "Epoch [3/5], Step [300/600], Loss: 0.0580\n",
      "Epoch [3/5], Step [400/600], Loss: 0.0704\n",
      "Epoch [3/5], Step [500/600], Loss: 0.0981\n",
      "Epoch [3/5], Step [600/600], Loss: 0.0772\n",
      "Epoch [4/5], Step [100/600], Loss: 0.1514\n",
      "Epoch [4/5], Step [200/600], Loss: 0.0252\n",
      "Epoch [4/5], Step [300/600], Loss: 0.0740\n",
      "Epoch [4/5], Step [400/600], Loss: 0.0383\n",
      "Epoch [4/5], Step [500/600], Loss: 0.0138\n",
      "Epoch [4/5], Step [600/600], Loss: 0.0420\n",
      "Epoch [5/5], Step [100/600], Loss: 0.0704\n",
      "Epoch [5/5], Step [200/600], Loss: 0.0423\n",
      "Epoch [5/5], Step [300/600], Loss: 0.0573\n",
      "Epoch [5/5], Step [400/600], Loss: 0.0511\n",
      "Epoch [5/5], Step [500/600], Loss: 0.0285\n",
      "Epoch [5/5], Step [600/600], Loss: 0.0313\n"
     ]
    }
   ],
   "source": [
    "# Train the model\n",
    "total_step = len(train_loader)\n",
    "for epoch in range(num_epochs):\n",
    "    for i, (images, labels) in enumerate(train_loader):\n",
    "        # Move tensors to the configured device\n",
    "        images = images.reshape(-1, 28*28).to(device)\n",
    "        labels = labels.to(device)\n",
    "        \n",
    "        # Forward pass\n",
    "        outputs = model(images)\n",
    "        loss = criterion(outputs, labels)\n",
    "        \n",
    "        # Backward and optimize\n",
    "        optimizer.zero_grad()\n",
    "        loss.backward()\n",
    "        optimizer.step()\n",
    "        \n",
    "        if (i+1) % 100 == 0:\n",
    "            print('Epoch [{}/{}], Step [{}/{}], Loss: {:.4f}'\n",
    "                 .format(epoch+1, num_epochs, i+1, total_step, loss.item()))"
   ]
  },
  {
   "cell_type": "code",
   "execution_count": 5,
   "metadata": {},
   "outputs": [
    {
     "name": "stdout",
     "output_type": "stream",
     "text": [
      "Accuracy of the network on the 10000 test images: 99.0%\n"
     ]
    }
   ],
   "source": [
    "# Test the model\n",
    "# In test phase, we don't need to compute gradients (for memory efficiency)\n",
    "with torch.no_grad():\n",
    "    correct = 0\n",
    "    total = 0\n",
    "    for images, labels in test_loader:\n",
    "        images = images.reshape(-1, 28*28).to(device)\n",
    "        labels = labels.to(device)\n",
    "        outputs = model(images)\n",
    "        _, predicted = torch.max(outputs.data, 1)  # At axis=1. predicted = torch.max()[1], the index of max value\n",
    "        total = labels.size(0)\n",
    "        correct = (predicted == labels).sum().item()\n",
    "        \n",
    "    print('Accuracy of the network on the 10000 test images: {}%'.format(100 * correct / total))\n",
    "\n",
    "# Save the model checkpoint\n",
    "torch.save(model.state_dict(), 'model.ckpt')"
   ]
  },
  {
   "cell_type": "code",
   "execution_count": null,
   "metadata": {},
   "outputs": [],
   "source": []
  }
 ],
 "metadata": {
  "kernelspec": {
   "display_name": "Python 3",
   "language": "python",
   "name": "python3"
  },
  "language_info": {
   "codemirror_mode": {
    "name": "ipython",
    "version": 3
   },
   "file_extension": ".py",
   "mimetype": "text/x-python",
   "name": "python",
   "nbconvert_exporter": "python",
   "pygments_lexer": "ipython3",
   "version": "3.7.3"
  }
 },
 "nbformat": 4,
 "nbformat_minor": 2
}
